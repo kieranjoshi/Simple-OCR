{
 "cells": [
  {
   "cell_type": "code",
   "execution_count": 63,
   "metadata": {},
   "outputs": [
    {
     "name": "stderr",
     "output_type": "stream",
     "text": [
      "/var/folders/7b/zk31sn6j2jd6mgfb45v946240000gn/T/ipykernel_57234/2696616343.py:9: DeprecationWarning: Please import `gaussian_filter` from the `scipy.ndimage` namespace; the `scipy.ndimage.filters` namespace is deprecated and will be removed in SciPy 2.0.0.\n",
      "  thresh1 = sp.ndimage.filters.gaussian_filter(thresh1, (2,0))\n"
     ]
    },
    {
     "data": {
      "image/png": "[encoded data removed]",
      "text/plain": [
       "<Figure size 640x480 with 1 Axes>"
      ]
     },
     "metadata": {},
     "output_type": "display_data"
    }
   ],
   "source": [
    "import cv2 as cv\n",
    "import numpy as np\n",
    "import scipy as sp\n",
    "from matplotlib import pyplot as plt\n",
    "\n",
    "img = cv.imread('image3.png', cv.IMREAD_GRAYSCALE)\n",
    "plt.imshow(img,'gray',vmin=0,vmax=255)\n",
    "_, thresh1 = cv.threshold(img,127,255,cv.THRESH_BINARY_INV)\n",
    "thresh1 = sp.ndimage.filters.gaussian_filter(thresh1, (2,0))\n",
    "\n",
    "\n",
    "\n",
    "\n",
    "plt.imshow(thresh1,'gray',vmin=0,vmax=255)\n",
    "plt.xticks([]),plt.yticks([])\n",
    "contours, _ = cv.findContours(thresh1, cv.RETR_EXTERNAL, cv.CHAIN_APPROX_SIMPLE)\n",
    "\n",
    "\n",
    "contours = sorted(contours, key=lambda c: cv.boundingRect(c)[0])\n",
    "chars = []\n",
    "for i, c in enumerate(contours):\n",
    "    x, y, w, h = cv.boundingRect(c)\n",
    "\n",
    "    char = img[y:y+h, x:x+w]\n",
    "    chars.append(char)\n",
    "    path = './saved/' + 'char_'+str(i)+'.png'\n",
    "    cv.imwrite(path, char)\n",
    "\n",
    "\n"
   ]
  }
 ],
 "metadata": {
  "kernelspec": {
   "display_name": "Python 3",
   "language": "python",
   "name": "python3"
  },
  "language_info": {
   "codemirror_mode": {
    "name": "ipython",
    "version": 3
   },
   "file_extension": ".py",
   "mimetype": "text/x-python",
   "name": "python",
   "nbconvert_exporter": "python",
   "pygments_lexer": "ipython3",
   "version": "3.11.7"
  }
 },
 "nbformat": 4,
 "nbformat_minor": 2
}
